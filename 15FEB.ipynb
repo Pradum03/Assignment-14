{
 "cells": [
  {
   "cell_type": "markdown",
   "id": "07b6e5a9-06b7-4ff0-836b-744ee3f63628",
   "metadata": {},
   "source": [
    "ASSIGNMENT : 14"
   ]
  },
  {
   "cell_type": "markdown",
   "id": "9373a1eb-303f-4703-ba2f-384673f787cf",
   "metadata": {},
   "source": [
    "1.  What is multiprocessing in python? Why is it useful?"
   ]
  },
  {
   "cell_type": "markdown",
   "id": "5b2f2d66-e8ef-456e-9496-82f9e1168b0a",
   "metadata": {},
   "source": [
    "Multiprocessing in Python refers to the ability of a program to use multiple processors or CPU cores to execute code in parallel. This means that instead of running all of the code sequentially on a single processor, the program can divide the work among several processors and complete the task faster.\n",
    "\n",
    "Python has a built-in multiprocessing module that provides a simple and easy-to-use way to implement multiprocessing in your programs. With this module, you can spawn multiple processes, each running its own Python interpreter, to run parallel tasks.\n",
    "\n",
    "Multiprocessing is useful for a variety of tasks where the execution time of the program can be reduced by running tasks in parallel. Some examples of tasks that can benefit from multiprocessing include:\n",
    "\n",
    "Data processing: If you have a large amount of data that needs to be processed, multiprocessing can help you divide the workload among multiple processors and complete the task faster.\n",
    "\n",
    "Image and video processing: Image and video processing tasks can be computationally intensive, but multiprocessing can help speed up the processing time by dividing the work among multiple processors.\n",
    "\n",
    "Scientific computing: Scientific computing tasks often involve complex calculations and simulations, which can be accelerated with multiprocessing.\n",
    "\n",
    "Web scraping and crawling: Web scraping and crawling tasks can be time-consuming, but multiprocessing can help speed up the process by allowing multiple requests to be made simultaneously.\n",
    "\n",
    "Overall, multiprocessing is a powerful tool that can help you improve the performance and speed of your Python programs."
   ]
  },
  {
   "cell_type": "markdown",
   "id": "259fee2f-c340-4e1e-94f9-9daae631d793",
   "metadata": {},
   "source": [
    "2.  What are the differences between multiprocessing and multithreading?"
   ]
  },
  {
   "cell_type": "markdown",
   "id": "b28972d9-1237-487a-b1fe-073769682408",
   "metadata": {},
   "source": [
    "Multiprocessing and multithreading are two different ways to achieve parallelism in a program. Here are the key differences between multiprocessing and multithreading:\n",
    "\n",
    "Execution: In multiprocessing, the program uses multiple processes, each with its own memory space, to execute tasks in parallel. In multithreading, the program uses multiple threads within a single process to execute tasks in parallel.\n",
    "\n",
    "Resource management: In multiprocessing, each process has its own memory space, so it is easier to manage resources and avoid conflicts. In multithreading, all threads share the same memory space, which can lead to resource conflicts and synchronization issues.\n",
    "\n",
    "Overhead: Creating and managing processes involves more overhead than creating and managing threads. As a result, multiprocessing can be slower to start up than multithreading.\n",
    "\n",
    "Scalability: Multiprocessing is more scalable than multithreading because it can use multiple processors, while multithreading can only use multiple threads within a single processor.\n",
    "\n",
    "Concurrency: Multiprocessing allows true concurrency because each process runs on a separate processor or core. Multithreading, on the other hand, achieves concurrency by interleaving the execution of threads, which can lead to issues like race conditions.\n",
    "\n",
    "In general, multiprocessing is better suited for CPU-bound tasks that can benefit from parallelism, while multithreading is better suited for I/O-bound tasks that can benefit from concurrency. However, the choice between multiprocessing and multithreading ultimately depends on the specific requirements of your program and the resources available on your system."
   ]
  },
  {
   "cell_type": "markdown",
   "id": "20c33d26-1854-433a-92cc-188cb71b2a6a",
   "metadata": {},
   "source": [
    "3. "
   ]
  },
  {
   "cell_type": "code",
   "execution_count": 2,
   "id": "5061604c-9eab-4890-ac92-effc76e893d5",
   "metadata": {},
   "outputs": [
    {
     "name": "stdout",
     "output_type": "stream",
     "text": [
      "Worker process started\n",
      "Worker process finished\n",
      "Main process finished\n"
     ]
    }
   ],
   "source": [
    "import multiprocessing\n",
    "\n",
    "def worker():\n",
    "    \"\"\"Simple worker function\"\"\"\n",
    "    print(\"Worker process started\")\n",
    "    print(\"Worker process finished\")\n",
    "\n",
    "if __name__ == \"__main__\":\n",
    "    # Create a new process\n",
    "    p = multiprocessing.Process(target=worker)\n",
    "    \n",
    "    # Start the process\n",
    "    p.start()\n",
    "    \n",
    "    # Wait for the process to finish\n",
    "    p.join()\n",
    "    \n",
    "    print(\"Main process finished\")\n"
   ]
  },
  {
   "cell_type": "markdown",
   "id": "be00694d-ea9c-4615-a325-b0559cd6abcc",
   "metadata": {},
   "source": [
    "4. What is a multiprocessing pool in python? Why is it used?"
   ]
  },
  {
   "cell_type": "markdown",
   "id": "a7cafe28-af7d-4fa2-9e40-eb0d2c693338",
   "metadata": {},
   "source": [
    "In Python's multiprocessing module, a Pool is a way to create a group of worker processes that can work on a set of tasks simultaneously. A Pool object manages a group of worker processes and provides a simple interface to distribute work among them.\n",
    "\n",
    "The Pool object provides several methods to manage the workers and distribute tasks, including map, apply, apply_async, map_async, and more. These methods take a function and a list of arguments and distribute the work to the worker processes. The worker processes then execute the function with the given arguments and return the results back to the parent process.\n",
    "\n",
    "The Pool object is used to leverage the benefits of multiprocessing, such as improved performance and scalability, for CPU-bound tasks. By dividing the workload among multiple processes, a Pool can significantly speed up the execution of a program."
   ]
  },
  {
   "cell_type": "code",
   "execution_count": 3,
   "id": "224fbb76-925b-480b-8589-d4dce58cf9ca",
   "metadata": {},
   "outputs": [
    {
     "name": "stdout",
     "output_type": "stream",
     "text": [
      "[1, 4, 9, 16, 25, 36, 49, 64, 81, 100]\n"
     ]
    }
   ],
   "source": [
    "import multiprocessing\n",
    "\n",
    "def square(number):\n",
    "    \"\"\"Simple function to square a number\"\"\"\n",
    "    return number ** 2\n",
    "\n",
    "if __name__ == \"__main__\":\n",
    "    numbers = [1, 2, 3, 4, 5, 6, 7, 8, 9, 10]\n",
    "    \n",
    "    # Create a pool of worker processes\n",
    "    pool = multiprocessing.Pool()\n",
    "    \n",
    "    # Use the map method to apply the square function to each number in the list\n",
    "    results = pool.map(square, numbers)\n",
    "    \n",
    "    # Close the pool and wait for all processes to finish\n",
    "    pool.close()\n",
    "    pool.join()\n",
    "    \n",
    "    # Print the results\n",
    "    print(results)\n"
   ]
  },
  {
   "cell_type": "markdown",
   "id": "d316bbc5-849f-4341-87be-6c8052d927c9",
   "metadata": {},
   "source": [
    "5. How can we create a pool of worker processes in python using the multiprocessing module?"
   ]
  },
  {
   "cell_type": "markdown",
   "id": "a7d58bf5-775b-4aef-98d4-092faddbfce0",
   "metadata": {},
   "source": [
    "EXAMPLE IS GIVEN ABOVE\n"
   ]
  },
  {
   "cell_type": "markdown",
   "id": "fc48b9dd-835a-4735-9856-b4104a9bac1c",
   "metadata": {},
   "source": [
    "6. Write a python program to create 4 processes, each process should print a different number using the \n",
    "multiprocessing module in python"
   ]
  },
  {
   "cell_type": "code",
   "execution_count": 9,
   "id": "63b6d285-161b-4344-8094-69dc2cf261bb",
   "metadata": {},
   "outputs": [
    {
     "name": "stdout",
     "output_type": "stream",
     "text": [
      "1324\n",
      "\n",
      "\n",
      "\n"
     ]
    }
   ],
   "source": [
    "import multiprocessing\n",
    "\n",
    "def print_number(num):\n",
    "    \"\"\"Prints a number\"\"\"\n",
    "    print(num)\n",
    "\n",
    "if __name__ == '__main__':\n",
    "    # Create a list of numbers to print\n",
    "    numbers = [1, 2, 3, 4]\n",
    "    \n",
    "    # Create a pool of 4 worker processes\n",
    "    with multiprocessing.Pool(processes=4) as pool:\n",
    "        # Map the print_number function to the numbers list\n",
    "        pool.map(print_number, numbers)\n"
   ]
  },
  {
   "cell_type": "code",
   "execution_count": null,
   "id": "d85da831-33ff-4a0d-b4ca-8015ebc735eb",
   "metadata": {},
   "outputs": [],
   "source": []
  }
 ],
 "metadata": {
  "kernelspec": {
   "display_name": "Python 3 (ipykernel)",
   "language": "python",
   "name": "python3"
  },
  "language_info": {
   "codemirror_mode": {
    "name": "ipython",
    "version": 3
   },
   "file_extension": ".py",
   "mimetype": "text/x-python",
   "name": "python",
   "nbconvert_exporter": "python",
   "pygments_lexer": "ipython3",
   "version": "3.10.8"
  }
 },
 "nbformat": 4,
 "nbformat_minor": 5
}
